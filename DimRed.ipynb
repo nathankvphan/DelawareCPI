{
 "cells": [
  {
   "cell_type": "code",
   "execution_count": 2,
   "id": "91a41bb8",
   "metadata": {},
   "outputs": [
    {
     "name": "stderr",
     "output_type": "stream",
     "text": [
      "/Users/nathanphan/anaconda3/envs/sims/lib/python3.12/site-packages/tqdm/auto.py:21: TqdmWarning: IProgress not found. Please update jupyter and ipywidgets. See https://ipywidgets.readthedocs.io/en/stable/user_install.html\n",
      "  from .autonotebook import tqdm as notebook_tqdm\n"
     ]
    }
   ],
   "source": [
    "from embedding import EnzEmb\n",
    "import pandas as pd\n"
   ]
  },
  {
   "cell_type": "code",
   "execution_count": 3,
   "id": "acaf3a87",
   "metadata": {},
   "outputs": [
    {
     "name": "stderr",
     "output_type": "stream",
     "text": [
      "Some weights of EsmModel were not initialized from the model checkpoint at facebook/esm2_t6_8M_UR50D and are newly initialized: ['pooler.dense.bias', 'pooler.dense.weight']\n",
      "You should probably TRAIN this model on a down-stream task to be able to use it for predictions and inference.\n",
      "Asking to truncate to max_length but no maximum length is provided and the model has no predefined maximum length. Default to no truncation.\n"
     ]
    }
   ],
   "source": [
    "  # Should print the shape of the embeddings tensor\n",
    "\n",
    "df = pd.read_csv('/Users/nathanphan/Desktop/pmt/data/Mega_energy.csv')\n",
    "sequences = df['Mutated Sequence'].to_list()\n",
    "\n",
    "embeddings = EnzEmb(sequence = sequences, model_name = \"facebook/esm2_t6_8M_UR50D\")\n"
   ]
  },
  {
   "cell_type": "code",
   "execution_count": 6,
   "id": "f0cce268",
   "metadata": {},
   "outputs": [
    {
     "name": "stdout",
     "output_type": "stream",
     "text": [
      "torch.Size([949, 320])\n"
     ]
    },
    {
     "data": {
      "text/plain": [
       "array([[-0.02346455, -0.2676773 ,  0.4350104 , ...,  0.10537822,\n",
       "         0.42647   ,  0.05144794],\n",
       "       [-0.02346455, -0.2676773 ,  0.4350104 , ...,  0.10537822,\n",
       "         0.42647   ,  0.05144794],\n",
       "       [-0.02346455, -0.2676773 ,  0.4350104 , ...,  0.10537822,\n",
       "         0.42647   ,  0.05144794],\n",
       "       ...,\n",
       "       [-0.05268168, -0.26568362,  0.43339127, ...,  0.13228054,\n",
       "         0.4331023 ,  0.03882763],\n",
       "       [-0.05268168, -0.26568362,  0.43339127, ...,  0.13228054,\n",
       "         0.4331023 ,  0.03882763],\n",
       "       [-0.02346455, -0.2676773 ,  0.4350104 , ...,  0.10537822,\n",
       "         0.42647   ,  0.05144794]], dtype=float32)"
      ]
     },
     "execution_count": 6,
     "metadata": {},
     "output_type": "execute_result"
    }
   ],
   "source": [
    "print(embeddings.shape)  # Should print the shape of the embeddings tensor\n",
    "embeddings.numpy()"
   ]
  },
  {
   "cell_type": "code",
   "execution_count": 7,
   "id": "b07da49c",
   "metadata": {},
   "outputs": [],
   "source": [
    "\n",
    "from sklearn.decomposition import PCA\n",
    "from sklearn.manifold import TSNE\n",
    "import matplotlib.pyplot as plt\n",
    "\n",
    "#pull an instance of the PCA model\n",
    "pca = PCA(n_components=2)\n",
    "#pull an instance of the t-SNE model\n",
    "tsne = TSNE(n_components=2, perplexity=30, n_iter=300)\n",
    "\n",
    "def plot_embeddings(embeddings, labels=None):\n",
    "    # Apply PCA\n",
    "    pca_result = pca.fit_transform(embeddings)\n",
    "    # Apply t-SNE\n",
    "    tsne_result = tsne.fit_transform(pca_result)\n",
    "    # Create a figure for plotting\n",
    "    plt.figure(figsize=(10, 8))\n",
    "    if labels is not None:\n",
    "        plt.scatter(tsne_result[:, 0], tsne_result[:, 1], c=labels, cmap='viridis', s=5)\n",
    "        plt.colorbar()\n",
    "    else:\n",
    "        plt.scatter(tsne_result[:, 0], tsne_result[:, 1], s=5)\n",
    "    \n",
    "    plt.title('Embeddings Visualization')\n",
    "    plt.xlabel('t-SNE Component 1')\n",
    "    plt.ylabel('t-SNE Component 2')\n",
    "    plt.show()"
   ]
  },
  {
   "cell_type": "code",
   "execution_count": 8,
   "id": "4e2626d8",
   "metadata": {},
   "outputs": [
    {
     "ename": "",
     "evalue": "",
     "output_type": "error",
     "traceback": [
      "\u001b[1;31mThe Kernel crashed while executing code in the current cell or a previous cell. \n",
      "\u001b[1;31mPlease review the code in the cell(s) to identify a possible cause of the failure. \n",
      "\u001b[1;31mClick <a href='https://aka.ms/vscodeJupyterKernelCrash'>here</a> for more info. \n",
      "\u001b[1;31mView Jupyter <a href='command:jupyter.viewOutput'>log</a> for further details."
     ]
    }
   ],
   "source": [
    "plot_embeddings(embeddings, labels=None)"
   ]
  }
 ],
 "metadata": {
  "kernelspec": {
   "display_name": "sims",
   "language": "python",
   "name": "python3"
  },
  "language_info": {
   "codemirror_mode": {
    "name": "ipython",
    "version": 3
   },
   "file_extension": ".py",
   "mimetype": "text/x-python",
   "name": "python",
   "nbconvert_exporter": "python",
   "pygments_lexer": "ipython3",
   "version": "3.12.2"
  }
 },
 "nbformat": 4,
 "nbformat_minor": 5
}
