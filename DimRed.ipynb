{
  "cells": [
    {
      "cell_type": "code",
      "execution_count": 32,
      "id": "91a41bb8",
      "metadata": {
        "id": "91a41bb8"
      },
      "outputs": [],
      "source": [
        "from embedding import EnzEmb\n",
        "import pandas as pd\n"
      ]
    },
    {
      "cell_type": "code",
      "source": [
        "    from google.colab import drive\n",
        "    drive.mount('/content/drive')"
      ],
      "metadata": {
        "colab": {
          "base_uri": "https://localhost:8080/"
        },
        "id": "cy72Y9IaSPpQ",
        "outputId": "e6b9abcc-8bdd-46c1-9366-b2256f09f0ad"
      },
      "id": "cy72Y9IaSPpQ",
      "execution_count": 33,
      "outputs": [
        {
          "output_type": "stream",
          "name": "stdout",
          "text": [
            "Drive already mounted at /content/drive; to attempt to forcibly remount, call drive.mount(\"/content/drive\", force_remount=True).\n"
          ]
        }
      ]
    },
    {
      "cell_type": "code",
      "execution_count": 34,
      "id": "acaf3a87",
      "metadata": {
        "colab": {
          "base_uri": "https://localhost:8080/"
        },
        "id": "acaf3a87",
        "outputId": "a8447768-d7be-46c4-fa30-059cd7d16d99"
      },
      "outputs": [
        {
          "output_type": "stream",
          "name": "stderr",
          "text": [
            "Some weights of EsmModel were not initialized from the model checkpoint at facebook/esm2_t6_8M_UR50D and are newly initialized: ['pooler.dense.bias', 'pooler.dense.weight']\n",
            "You should probably TRAIN this model on a down-stream task to be able to use it for predictions and inference.\n",
            "Asking to truncate to max_length but no maximum length is provided and the model has no predefined maximum length. Default to no truncation.\n"
          ]
        }
      ],
      "source": [
        "  # Should print the shape of the embeddings tensor\n",
        "\n",
        "df = pd.read_csv('/content/Mega_energy.csv')\n",
        "sequences = df['Mutated Sequence'].to_list()\n",
        "\n",
        "embeddings = EnzEmb(sequence = sequences, model_name = \"facebook/esm2_t6_8M_UR50D\")\n"
      ]
    },
    {
      "cell_type": "code",
      "execution_count": 35,
      "id": "f0cce268",
      "metadata": {
        "colab": {
          "base_uri": "https://localhost:8080/"
        },
        "id": "f0cce268",
        "outputId": "079ba51c-9ac7-4f36-88f4-566b7c9152a6"
      },
      "outputs": [
        {
          "output_type": "stream",
          "name": "stdout",
          "text": [
            "torch.Size([949, 320])\n"
          ]
        },
        {
          "output_type": "execute_result",
          "data": {
            "text/plain": [
              "array([[-0.02346439, -0.2676775 ,  0.43501046, ...,  0.10537837,\n",
              "         0.42646977,  0.0514477 ],\n",
              "       [-0.02346439, -0.2676775 ,  0.43501046, ...,  0.10537837,\n",
              "         0.42646977,  0.0514477 ],\n",
              "       [-0.02346439, -0.2676775 ,  0.43501046, ...,  0.10537837,\n",
              "         0.42646977,  0.0514477 ],\n",
              "       ...,\n",
              "       [-0.05268189, -0.26568368,  0.43339127, ...,  0.13228048,\n",
              "         0.43310183,  0.03882743],\n",
              "       [-0.05268189, -0.26568368,  0.43339127, ...,  0.13228048,\n",
              "         0.43310183,  0.03882743],\n",
              "       [-0.02346439, -0.2676775 ,  0.43501046, ...,  0.10537837,\n",
              "         0.42646977,  0.0514477 ]], dtype=float32)"
            ]
          },
          "metadata": {},
          "execution_count": 35
        }
      ],
      "source": [
        "print(embeddings.shape)  # Should print the shape of the embeddings tensor\n",
        "embeddings.numpy()\n",
        "# embeddings = embeddings.transpose(0, 1)"
      ]
    },
    {
      "cell_type": "code",
      "execution_count": 91,
      "id": "b07da49c",
      "metadata": {
        "id": "b07da49c"
      },
      "outputs": [],
      "source": [
        "\n",
        "from sklearn.decomposition import PCA\n",
        "from sklearn.manifold import TSNE\n",
        "import numpy as np\n",
        "import matplotlib.pyplot as plt\n",
        "\n",
        "#pull an instance of the PCA model\n",
        "pca = PCA(n_components=2)\n",
        "#pull an instance of the t-SNE model\n",
        "tsne = TSNE(n_components=2, perplexity=30, n_iter=300)\n",
        "\n",
        "def plot_embeddings(embeddings, labels=None, run_tsne = False, run_pca = False):\n",
        "    # # Apply PCA\n",
        "    # pca_result = pca.fit_transform(embeddings)\n",
        "    # # print(pca_result.shape)\n",
        "    # # Apply t-SNE\n",
        "    # tsne_result = tsne.fit_transform(pca_result)\n",
        "    # # print(tsne_result)\n",
        "    # print(len(tsne_result[:,0]))\n",
        "    if run_tsne:\n",
        "      tsne_result = tsne.fit_transform(embeddings)\n",
        "      x = tsne_result[:,0]\n",
        "      y = tsne_result[:,1]\n",
        "      input = np.array([x,y]).transpose()\n",
        "      print(input.shape)\n",
        "      plt.scatter(embeddings[:,0], embeddings[:,1])\n",
        "      plt.figure(figsize=(100, 100))\n",
        "      plt.show()\n",
        "    else:\n",
        "      pass\n",
        "    if run_pca:\n",
        "      pca_result = pca.fit_transform(embeddings)\n",
        "      x = pca_result[:,0]\n",
        "      y = pca_result[:,1]\n",
        "      plt.scatter(x, y)\n",
        "      plt.show()\n",
        "    else:\n",
        "      pass\n",
        "    plt.show()"
      ]
    },
    {
      "cell_type": "code",
      "execution_count": 92,
      "id": "4e2626d8",
      "metadata": {
        "colab": {
          "base_uri": "https://localhost:8080/",
          "height": 523
        },
        "id": "4e2626d8",
        "outputId": "e735dfa8-9a2b-4a65-d7df-00a6f3ba54b2"
      },
      "outputs": [
        {
          "output_type": "stream",
          "name": "stderr",
          "text": [
            "/usr/local/lib/python3.11/dist-packages/sklearn/manifold/_t_sne.py:1164: FutureWarning: 'n_iter' was renamed to 'max_iter' in version 1.5 and will be removed in 1.7.\n",
            "  warnings.warn(\n"
          ]
        },
        {
          "output_type": "stream",
          "name": "stdout",
          "text": [
            "(949, 2)\n"
          ]
        },
        {
          "output_type": "display_data",
          "data": {
            "text/plain": [
              "<Figure size 640x480 with 1 Axes>"
            ],
            "image/png": "[encoded data removed]"
          },
          "metadata": {}
        },
        {
          "output_type": "display_data",
          "data": {
            "text/plain": [
              "<Figure size 10000x10000 with 0 Axes>"
            ]
          },
          "metadata": {}
        }
      ],
      "source": [
        "plot_embeddings(embeddings, labels=None, run_tsne = True, run_pca = False)"
      ]
    }
  ],
  "metadata": {
    "kernelspec": {
      "display_name": "Python 3",
      "name": "python3"
    },
    "language_info": {
      "codemirror_mode": {
        "name": "ipython",
        "version": 3
      },
      "file_extension": ".py",
      "mimetype": "text/x-python",
      "name": "python",
      "nbconvert_exporter": "python",
      "pygments_lexer": "ipython3",
      "version": "3.12.2"
    },
    "colab": {
      "provenance": [],
      "gpuType": "T4"
    },
    "accelerator": "GPU"
  },
  "nbformat": 4,
  "nbformat_minor": 5
}